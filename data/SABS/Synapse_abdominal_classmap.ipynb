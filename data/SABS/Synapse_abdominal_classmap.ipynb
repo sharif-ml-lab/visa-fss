{
 "cells": [
  {
   "cell_type": "markdown",
   "metadata": {},
   "source": [
    "Get class-pid-index map for synapse abdominal CT dataset "
   ]
  },
  {
   "cell_type": "code",
   "execution_count": 1,
   "metadata": {},
   "outputs": [],
   "source": [
    "%reset\n",
    "%load_ext autoreload\n",
    "%autoreload 2\n",
    "import numpy as np\n",
    "import os\n",
    "import glob\n",
    "import SimpleITK as sitk\n",
    "import matplotlib.pyplot as plt\n",
    "import sys\n",
    "sys.path.insert(0, '../../dataloaders/')\n",
    "import niftiio as nio"
   ]
  },
  {
   "cell_type": "code",
   "execution_count": 2,
   "metadata": {},
   "outputs": [],
   "source": [
    "# lets save them in a same way as mmwhs for the ease of modifying dataloader\n",
    "\n",
    "# normalization: cut top 2% of histogram, then doing volume-wise normalization\n",
    "\n",
    "IMG_BNAME=\"/HDD/medical-data/ABD-CT/ABD-CT-Preprocessed/image_*.nii.gz\"\n",
    "SEG_BNAME=\"/HDD/medical-data/ABD-CT/ABD-CT-Preprocessed/label_*.nii.gz\"\n",
    "\n",
    "\n",
    "\n",
    "\n"
   ]
  },
  {
   "cell_type": "code",
   "execution_count": 3,
   "metadata": {},
   "outputs": [],
   "source": [
    "imgs = glob.glob(IMG_BNAME)\n",
    "segs = glob.glob(SEG_BNAME)\n",
    "imgs = [ fid for fid in sorted(imgs, key = lambda x: int(x.split(\"_\")[-1].split(\".nii.gz\")[0])  ) ]\n",
    "segs = [ fid for fid in sorted(segs, key = lambda x: int(x.split(\"_\")[-1].split(\".nii.gz\")[0])  ) ]\n"
   ]
  },
  {
   "cell_type": "code",
   "execution_count": 4,
   "metadata": {},
   "outputs": [
    {
     "data": {
      "text/plain": [
       "['/HDD/medical-data/ABD-CT/ABD-CT-Preprocessed/image_0.nii.gz',\n",
       " '/HDD/medical-data/ABD-CT/ABD-CT-Preprocessed/image_1.nii.gz',\n",
       " '/HDD/medical-data/ABD-CT/ABD-CT-Preprocessed/image_2.nii.gz',\n",
       " '/HDD/medical-data/ABD-CT/ABD-CT-Preprocessed/image_3.nii.gz',\n",
       " '/HDD/medical-data/ABD-CT/ABD-CT-Preprocessed/image_4.nii.gz',\n",
       " '/HDD/medical-data/ABD-CT/ABD-CT-Preprocessed/image_5.nii.gz',\n",
       " '/HDD/medical-data/ABD-CT/ABD-CT-Preprocessed/image_6.nii.gz',\n",
       " '/HDD/medical-data/ABD-CT/ABD-CT-Preprocessed/image_7.nii.gz',\n",
       " '/HDD/medical-data/ABD-CT/ABD-CT-Preprocessed/image_8.nii.gz',\n",
       " '/HDD/medical-data/ABD-CT/ABD-CT-Preprocessed/image_9.nii.gz',\n",
       " '/HDD/medical-data/ABD-CT/ABD-CT-Preprocessed/image_10.nii.gz',\n",
       " '/HDD/medical-data/ABD-CT/ABD-CT-Preprocessed/image_11.nii.gz',\n",
       " '/HDD/medical-data/ABD-CT/ABD-CT-Preprocessed/image_12.nii.gz',\n",
       " '/HDD/medical-data/ABD-CT/ABD-CT-Preprocessed/image_13.nii.gz',\n",
       " '/HDD/medical-data/ABD-CT/ABD-CT-Preprocessed/image_14.nii.gz',\n",
       " '/HDD/medical-data/ABD-CT/ABD-CT-Preprocessed/image_15.nii.gz',\n",
       " '/HDD/medical-data/ABD-CT/ABD-CT-Preprocessed/image_16.nii.gz',\n",
       " '/HDD/medical-data/ABD-CT/ABD-CT-Preprocessed/image_17.nii.gz',\n",
       " '/HDD/medical-data/ABD-CT/ABD-CT-Preprocessed/image_18.nii.gz',\n",
       " '/HDD/medical-data/ABD-CT/ABD-CT-Preprocessed/image_19.nii.gz',\n",
       " '/HDD/medical-data/ABD-CT/ABD-CT-Preprocessed/image_20.nii.gz',\n",
       " '/HDD/medical-data/ABD-CT/ABD-CT-Preprocessed/image_21.nii.gz',\n",
       " '/HDD/medical-data/ABD-CT/ABD-CT-Preprocessed/image_22.nii.gz',\n",
       " '/HDD/medical-data/ABD-CT/ABD-CT-Preprocessed/image_23.nii.gz',\n",
       " '/HDD/medical-data/ABD-CT/ABD-CT-Preprocessed/image_24.nii.gz',\n",
       " '/HDD/medical-data/ABD-CT/ABD-CT-Preprocessed/image_25.nii.gz',\n",
       " '/HDD/medical-data/ABD-CT/ABD-CT-Preprocessed/image_26.nii.gz',\n",
       " '/HDD/medical-data/ABD-CT/ABD-CT-Preprocessed/image_27.nii.gz',\n",
       " '/HDD/medical-data/ABD-CT/ABD-CT-Preprocessed/image_28.nii.gz',\n",
       " '/HDD/medical-data/ABD-CT/ABD-CT-Preprocessed/image_29.nii.gz']"
      ]
     },
     "execution_count": 4,
     "metadata": {},
     "output_type": "execute_result"
    }
   ],
   "source": [
    "imgs"
   ]
  },
  {
   "cell_type": "code",
   "execution_count": 12,
   "metadata": {},
   "outputs": [
    {
     "data": {
      "text/plain": [
       "['/HDD/medical-data/ABD-CT/ABD-CT-Preprocessed/label_0.nii.gz',\n",
       " '/HDD/medical-data/ABD-CT/ABD-CT-Preprocessed/label_1.nii.gz',\n",
       " '/HDD/medical-data/ABD-CT/ABD-CT-Preprocessed/label_2.nii.gz',\n",
       " '/HDD/medical-data/ABD-CT/ABD-CT-Preprocessed/label_3.nii.gz',\n",
       " '/HDD/medical-data/ABD-CT/ABD-CT-Preprocessed/label_4.nii.gz',\n",
       " '/HDD/medical-data/ABD-CT/ABD-CT-Preprocessed/label_5.nii.gz',\n",
       " '/HDD/medical-data/ABD-CT/ABD-CT-Preprocessed/label_6.nii.gz',\n",
       " '/HDD/medical-data/ABD-CT/ABD-CT-Preprocessed/label_7.nii.gz',\n",
       " '/HDD/medical-data/ABD-CT/ABD-CT-Preprocessed/label_8.nii.gz',\n",
       " '/HDD/medical-data/ABD-CT/ABD-CT-Preprocessed/label_9.nii.gz',\n",
       " '/HDD/medical-data/ABD-CT/ABD-CT-Preprocessed/label_10.nii.gz',\n",
       " '/HDD/medical-data/ABD-CT/ABD-CT-Preprocessed/label_11.nii.gz',\n",
       " '/HDD/medical-data/ABD-CT/ABD-CT-Preprocessed/label_12.nii.gz',\n",
       " '/HDD/medical-data/ABD-CT/ABD-CT-Preprocessed/label_13.nii.gz',\n",
       " '/HDD/medical-data/ABD-CT/ABD-CT-Preprocessed/label_14.nii.gz',\n",
       " '/HDD/medical-data/ABD-CT/ABD-CT-Preprocessed/label_15.nii.gz',\n",
       " '/HDD/medical-data/ABD-CT/ABD-CT-Preprocessed/label_16.nii.gz',\n",
       " '/HDD/medical-data/ABD-CT/ABD-CT-Preprocessed/label_17.nii.gz',\n",
       " '/HDD/medical-data/ABD-CT/ABD-CT-Preprocessed/label_18.nii.gz',\n",
       " '/HDD/medical-data/ABD-CT/ABD-CT-Preprocessed/label_19.nii.gz',\n",
       " '/HDD/medical-data/ABD-CT/ABD-CT-Preprocessed/label_20.nii.gz',\n",
       " '/HDD/medical-data/ABD-CT/ABD-CT-Preprocessed/label_21.nii.gz',\n",
       " '/HDD/medical-data/ABD-CT/ABD-CT-Preprocessed/label_22.nii.gz',\n",
       " '/HDD/medical-data/ABD-CT/ABD-CT-Preprocessed/label_23.nii.gz',\n",
       " '/HDD/medical-data/ABD-CT/ABD-CT-Preprocessed/label_24.nii.gz',\n",
       " '/HDD/medical-data/ABD-CT/ABD-CT-Preprocessed/label_25.nii.gz',\n",
       " '/HDD/medical-data/ABD-CT/ABD-CT-Preprocessed/label_26.nii.gz',\n",
       " '/HDD/medical-data/ABD-CT/ABD-CT-Preprocessed/label_27.nii.gz',\n",
       " '/HDD/medical-data/ABD-CT/ABD-CT-Preprocessed/label_28.nii.gz',\n",
       " '/HDD/medical-data/ABD-CT/ABD-CT-Preprocessed/label_29.nii.gz']"
      ]
     },
     "execution_count": 12,
     "metadata": {},
     "output_type": "execute_result"
    }
   ],
   "source": [
    "segs"
   ]
  },
  {
   "cell_type": "code",
   "execution_count": 11,
   "metadata": {},
   "outputs": [
    {
     "data": {
      "text/plain": [
       "(148, 257, 257)"
      ]
     },
     "execution_count": 11,
     "metadata": {},
     "output_type": "execute_result"
    }
   ],
   "source": [
    "lb = sitk.ReadImage(segs[0])\n",
    "lb = sitk.GetArrayFromImage(lb)\n",
    "\n",
    "lb.shape\n",
    "# plt.imshow(lb[100, :, :], cmap='jet')\n",
    "# lb[40, ...].shape\n",
    "# 1 in lb[..., 40]"
   ]
  },
  {
   "cell_type": "code",
   "execution_count": 13,
   "metadata": {},
   "outputs": [
    {
     "name": "stdout",
     "output_type": "stream",
     "text": [
      "(148, 257, 257)\n",
      "pid 0 finished!\n",
      "(140, 257, 257)\n",
      "pid 1 finished!\n",
      "(199, 257, 257)\n",
      "pid 2 finished!\n",
      "(141, 257, 257)\n",
      "pid 3 finished!\n",
      "(118, 257, 257)\n",
      "pid 4 finished!\n",
      "(132, 257, 257)\n",
      "pid 5 finished!\n",
      "(164, 257, 257)\n",
      "pid 6 finished!\n",
      "(149, 257, 257)\n",
      "pid 7 finished!\n",
      "(150, 257, 257)\n",
      "pid 8 finished!\n",
      "(149, 257, 257)\n",
      "pid 9 finished!\n",
      "(144, 257, 257)\n",
      "pid 10 finished!\n",
      "(90, 257, 257)\n",
      "pid 11 finished!\n",
      "(97, 257, 257)\n",
      "pid 12 finished!\n",
      "(125, 257, 257)\n",
      "pid 13 finished!\n",
      "(86, 257, 257)\n",
      "pid 14 finished!\n",
      "(132, 257, 257)\n",
      "pid 15 finished!\n",
      "(89, 257, 257)\n",
      "pid 16 finished!\n",
      "(90, 257, 257)\n",
      "pid 17 finished!\n",
      "(101, 257, 257)\n",
      "pid 18 finished!\n",
      "(154, 257, 257)\n",
      "pid 19 finished!\n",
      "(94, 257, 257)\n",
      "pid 20 finished!\n",
      "(145, 257, 257)\n",
      "pid 21 finished!\n",
      "(105, 257, 257)\n",
      "pid 22 finished!\n",
      "(99, 257, 257)\n",
      "pid 23 finished!\n",
      "(95, 257, 257)\n",
      "pid 24 finished!\n",
      "(185, 257, 257)\n",
      "pid 25 finished!\n",
      "(100, 257, 257)\n",
      "pid 26 finished!\n",
      "(101, 257, 257)\n",
      "pid 27 finished!\n",
      "(91, 257, 257)\n",
      "pid 28 finished!\n",
      "(196, 257, 257)\n",
      "pid 29 finished!\n"
     ]
    }
   ],
   "source": [
    "import json\n",
    "classmap = {}\n",
    "LABEL_NAME = [\"BGD\", \"SPLEEN\", \"KID_R\", \"KID_l\", \"GALLBLADDER\", \"ESOPHAGUS\", \"LIVER\", \"STOMACH\", \"AORTA\", \"IVC\", \"PS_VEIN\", \"PANCREAS\", \"AG_R\", \"AG_L\"]     \n",
    "\n",
    "MIN_TP=1 # minimum number of true positive pixels in a slice\n",
    "\n",
    "fid = f'/HDD/medical-data/ABD-CT/ABD-CT-Preprocessed/classmap_{MIN_TP}.json'\n",
    "for _lb in LABEL_NAME:\n",
    "    classmap[_lb] = {}\n",
    "    for pid in range(len(segs)):\n",
    "        classmap[_lb][str(pid)] = []\n",
    "\n",
    "for pid, seg in enumerate(segs):\n",
    "    lb_vol = sitk.ReadImage(seg)\n",
    "    lb_vol = sitk.GetArrayFromImage(lb_vol)\n",
    "    print(lb_vol.shape)\n",
    "    n_slice = lb_vol.shape[0]\n",
    "    for slc in range(n_slice):\n",
    "        for cls in range(len(LABEL_NAME)):\n",
    "            if cls in lb_vol[slc, :, :]:\n",
    "                if np.sum(lb_vol[slc, :, :] == cls) >= MIN_TP:\n",
    "                    classmap[LABEL_NAME[cls]][str(pid)].append(slc)\n",
    "    print(f'pid {str(pid)} finished!')\n",
    "    \n",
    "with open(fid, 'w') as fopen:\n",
    "    json.dump(classmap, fopen)\n",
    "    fopen.close()  \n",
    "    "
   ]
  },
  {
   "cell_type": "code",
   "execution_count": null,
   "metadata": {},
   "outputs": [],
   "source": []
  }
 ],
 "metadata": {
  "kernelspec": {
   "display_name": "Python 3.7.10 ('smfi')",
   "language": "python",
   "name": "python3"
  },
  "language_info": {
   "codemirror_mode": {
    "name": "ipython",
    "version": 3
   },
   "file_extension": ".py",
   "mimetype": "text/x-python",
   "name": "python",
   "nbconvert_exporter": "python",
   "pygments_lexer": "ipython3",
   "version": "3.7.10"
  },
  "vscode": {
   "interpreter": {
    "hash": "661d70018e064529b605897b50fac7d1789dad8520f1737ca221a2870c586d60"
   }
  }
 },
 "nbformat": 4,
 "nbformat_minor": 2
}
