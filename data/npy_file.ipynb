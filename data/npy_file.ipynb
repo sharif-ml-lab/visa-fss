{
 "cells": [
  {
   "cell_type": "code",
   "execution_count": 1,
   "metadata": {},
   "outputs": [],
   "source": [
    "import glob\n",
    "import numpy as np\n",
    "import SimpleITK as sitk"
   ]
  },
  {
   "cell_type": "code",
   "execution_count": 2,
   "metadata": {},
   "outputs": [],
   "source": [
    "ct_imgs_paths = '~/medical-data/ABD-CT/ABD-CT-Preprocessed/image_*.nii.gz'\n",
    "ct_lbls_paths = '~/medical-data/ABD-CT/ABD-CT-Preprocessed/label_*.nii.gz'\n",
    "mr_imgs_paths = '~/medical-data/ABD-MRI/image_*.nii.gz'\n",
    "mr_lbls_paths = '~/medical-data/ABD-MRI/label_*.nii.gz'\n",
    "ct_imgs_paths = glob.glob(ct_imgs_paths)\n",
    "ct_lbls_paths = glob.glob(ct_lbls_paths)\n",
    "mr_imgs_paths = glob.glob(mr_imgs_paths)\n",
    "mr_lbls_paths = glob.glob(mr_lbls_paths)\n",
    "ct_imgs_paths = sorted(ct_imgs_paths, key = lambda x: int(x.split('_')[-1].split('.nii.gz')[0]) )\n",
    "ct_lbls_paths = sorted(ct_lbls_paths, key = lambda x: int(x.split('_')[-1].split('.nii.gz')[0]) )\n",
    "mr_imgs_paths = sorted(mr_imgs_paths, key = lambda x: int(x.split('_')[-1].split('.nii.gz')[0]) )\n",
    "mr_lbls_paths = sorted(mr_lbls_paths, key = lambda x: int(x.split('_')[-1].split('.nii.gz')[0]) )"
   ]
  },
  {
   "cell_type": "code",
   "execution_count": 12,
   "metadata": {},
   "outputs": [],
   "source": [
    "data = []\n",
    "\n",
    "for ci, cl in zip(ct_imgs_paths, ct_lbls_paths):\n",
    "    num = int(ci.split('_')[-1].split('.nii.gz')[0])\n",
    "    id_ = f'ct_{num}'\n",
    "    img = sitk.GetArrayFromImage(sitk.ReadImage(ci))\n",
    "    lbl = sitk.GetArrayFromImage(sitk.ReadImage(cl))    \n",
    "    dic = {}\n",
    "    dic['id'] = id_\n",
    "    dic['img'] = img\n",
    "    dic['lbl'] = lbl\n",
    "    data.append(dic)\n",
    "    \n",
    "for mi, ml in zip(mr_imgs_paths, mr_lbls_paths):\n",
    "    num = int(mi.split('_')[-1].split('.nii.gz')[0])\n",
    "    id_ = f'mr_{num}'\n",
    "    img = sitk.GetArrayFromImage(sitk.ReadImage(mi))\n",
    "    lbl = sitk.GetArrayFromImage(sitk.ReadImage(ml))    \n",
    "    dic = {}\n",
    "    dic['id'] = id_\n",
    "    dic['img'] = img\n",
    "    dic['lbl'] = lbl\n",
    "    data.append(dic)\n",
    "    \n",
    "np.save('ct_mri.npy', data)"
   ]
  },
  {
   "cell_type": "code",
   "execution_count": 16,
   "metadata": {},
   "outputs": [
    {
     "name": "stdout",
     "output_type": "stream",
     "text": [
      "id: ct_0, img shape: (148, 257, 257), label shape: (148, 257, 257)\n",
      "id: ct_1, img shape: (140, 257, 257), label shape: (140, 257, 257)\n",
      "id: ct_2, img shape: (199, 257, 257), label shape: (199, 257, 257)\n",
      "id: ct_3, img shape: (141, 257, 257), label shape: (141, 257, 257)\n",
      "id: ct_4, img shape: (118, 257, 257), label shape: (118, 257, 257)\n",
      "id: ct_5, img shape: (132, 257, 257), label shape: (132, 257, 257)\n",
      "id: ct_6, img shape: (164, 257, 257), label shape: (164, 257, 257)\n",
      "id: ct_7, img shape: (149, 257, 257), label shape: (149, 257, 257)\n",
      "id: ct_8, img shape: (150, 257, 257), label shape: (150, 257, 257)\n",
      "id: ct_9, img shape: (149, 257, 257), label shape: (149, 257, 257)\n",
      "id: ct_10, img shape: (144, 257, 257), label shape: (144, 257, 257)\n",
      "id: ct_11, img shape: (90, 257, 257), label shape: (90, 257, 257)\n",
      "id: ct_12, img shape: (97, 257, 257), label shape: (97, 257, 257)\n",
      "id: ct_13, img shape: (125, 257, 257), label shape: (125, 257, 257)\n",
      "id: ct_14, img shape: (86, 257, 257), label shape: (86, 257, 257)\n",
      "id: ct_15, img shape: (132, 257, 257), label shape: (132, 257, 257)\n",
      "id: ct_16, img shape: (89, 257, 257), label shape: (89, 257, 257)\n",
      "id: ct_17, img shape: (90, 257, 257), label shape: (90, 257, 257)\n",
      "id: ct_18, img shape: (101, 257, 257), label shape: (101, 257, 257)\n",
      "id: ct_19, img shape: (154, 257, 257), label shape: (154, 257, 257)\n",
      "id: ct_20, img shape: (94, 257, 257), label shape: (94, 257, 257)\n",
      "id: ct_21, img shape: (145, 257, 257), label shape: (145, 257, 257)\n",
      "id: ct_22, img shape: (105, 257, 257), label shape: (105, 257, 257)\n",
      "id: ct_23, img shape: (99, 257, 257), label shape: (99, 257, 257)\n",
      "id: ct_24, img shape: (95, 257, 257), label shape: (95, 257, 257)\n",
      "id: ct_25, img shape: (185, 257, 257), label shape: (185, 257, 257)\n",
      "id: ct_26, img shape: (100, 257, 257), label shape: (100, 257, 257)\n",
      "id: ct_27, img shape: (101, 257, 257), label shape: (101, 257, 257)\n",
      "id: ct_28, img shape: (91, 257, 257), label shape: (91, 257, 257)\n",
      "id: ct_29, img shape: (196, 257, 257), label shape: (196, 257, 257)\n",
      "id: mr_1, img shape: (37, 256, 256), label shape: (37, 256, 256)\n",
      "id: mr_2, img shape: (31, 256, 256), label shape: (31, 256, 256)\n",
      "id: mr_3, img shape: (36, 256, 256), label shape: (36, 256, 256)\n",
      "id: mr_5, img shape: (36, 256, 256), label shape: (36, 256, 256)\n",
      "id: mr_8, img shape: (34, 256, 256), label shape: (34, 256, 256)\n",
      "id: mr_10, img shape: (36, 256, 256), label shape: (36, 256, 256)\n",
      "id: mr_13, img shape: (36, 256, 256), label shape: (36, 256, 256)\n",
      "id: mr_15, img shape: (31, 256, 256), label shape: (31, 256, 256)\n",
      "id: mr_19, img shape: (36, 256, 256), label shape: (36, 256, 256)\n",
      "id: mr_20, img shape: (31, 256, 256), label shape: (31, 256, 256)\n",
      "id: mr_21, img shape: (33, 256, 256), label shape: (33, 256, 256)\n",
      "id: mr_22, img shape: (38, 256, 256), label shape: (38, 256, 256)\n",
      "id: mr_31, img shape: (34, 256, 256), label shape: (34, 256, 256)\n",
      "id: mr_32, img shape: (46, 256, 256), label shape: (46, 256, 256)\n",
      "id: mr_33, img shape: (34, 256, 256), label shape: (34, 256, 256)\n",
      "id: mr_34, img shape: (35, 256, 256), label shape: (35, 256, 256)\n",
      "id: mr_36, img shape: (45, 256, 256), label shape: (45, 256, 256)\n",
      "id: mr_37, img shape: (38, 256, 256), label shape: (38, 256, 256)\n",
      "id: mr_38, img shape: (40, 256, 256), label shape: (40, 256, 256)\n",
      "id: mr_39, img shape: (31, 256, 256), label shape: (31, 256, 256)\n"
     ]
    }
   ],
   "source": [
    "all_data = np.load('ct_mri.npy', allow_pickle=True)\n",
    "for i in range(50):\n",
    "    d = all_data[i]\n",
    "    print(f'id: {d[\"id\"]}, img shape: {d[\"img\"].shape}, label shape: {d[\"lbl\"].shape}')"
   ]
  },
  {
   "cell_type": "code",
   "execution_count": 3,
   "metadata": {},
   "outputs": [
    {
     "data": {
      "text/plain": [
       "['~/medical-data/ABD-CT/ABD-CT-Preprocessed/image_0.nii.gz',\n",
       " '~/medical-data/ABD-CT/ABD-CT-Preprocessed/image_1.nii.gz',\n",
       " '~/medical-data/ABD-CT/ABD-CT-Preprocessed/image_2.nii.gz',\n",
       " '~/medical-data/ABD-CT/ABD-CT-Preprocessed/image_3.nii.gz',\n",
       " '~/medical-data/ABD-CT/ABD-CT-Preprocessed/image_4.nii.gz',\n",
       " '~/medical-data/ABD-CT/ABD-CT-Preprocessed/image_5.nii.gz',\n",
       " '~/medical-data/ABD-CT/ABD-CT-Preprocessed/image_6.nii.gz',\n",
       " '~/medical-data/ABD-CT/ABD-CT-Preprocessed/image_7.nii.gz',\n",
       " '~/medical-data/ABD-CT/ABD-CT-Preprocessed/image_8.nii.gz',\n",
       " '~/medical-data/ABD-CT/ABD-CT-Preprocessed/image_9.nii.gz',\n",
       " '~/medical-data/ABD-CT/ABD-CT-Preprocessed/image_10.nii.gz',\n",
       " '~/medical-data/ABD-CT/ABD-CT-Preprocessed/image_11.nii.gz',\n",
       " '~/medical-data/ABD-CT/ABD-CT-Preprocessed/image_12.nii.gz',\n",
       " '~/medical-data/ABD-CT/ABD-CT-Preprocessed/image_13.nii.gz',\n",
       " '~/medical-data/ABD-CT/ABD-CT-Preprocessed/image_14.nii.gz',\n",
       " '~/medical-data/ABD-CT/ABD-CT-Preprocessed/image_15.nii.gz',\n",
       " '~/medical-data/ABD-CT/ABD-CT-Preprocessed/image_16.nii.gz',\n",
       " '~/medical-data/ABD-CT/ABD-CT-Preprocessed/image_17.nii.gz',\n",
       " '~/medical-data/ABD-CT/ABD-CT-Preprocessed/image_18.nii.gz',\n",
       " '~/medical-data/ABD-CT/ABD-CT-Preprocessed/image_19.nii.gz',\n",
       " '~/medical-data/ABD-CT/ABD-CT-Preprocessed/image_20.nii.gz',\n",
       " '~/medical-data/ABD-CT/ABD-CT-Preprocessed/image_21.nii.gz',\n",
       " '~/medical-data/ABD-CT/ABD-CT-Preprocessed/image_22.nii.gz',\n",
       " '~/medical-data/ABD-CT/ABD-CT-Preprocessed/image_23.nii.gz',\n",
       " '~/medical-data/ABD-CT/ABD-CT-Preprocessed/image_24.nii.gz',\n",
       " '~/medical-data/ABD-CT/ABD-CT-Preprocessed/image_25.nii.gz',\n",
       " '~/medical-data/ABD-CT/ABD-CT-Preprocessed/image_26.nii.gz',\n",
       " '~/medical-data/ABD-CT/ABD-CT-Preprocessed/image_27.nii.gz',\n",
       " '~/medical-data/ABD-CT/ABD-CT-Preprocessed/image_28.nii.gz',\n",
       " '~/medical-data/ABD-CT/ABD-CT-Preprocessed/image_29.nii.gz']"
      ]
     },
     "execution_count": 3,
     "metadata": {},
     "output_type": "execute_result"
    }
   ],
   "source": [
    "ct_imgs_paths"
   ]
  },
  {
   "cell_type": "code",
   "execution_count": 5,
   "metadata": {},
   "outputs": [],
   "source": [
    "fold_indices = [\n",
    "    [0, 1, 2, 3, 4, 5, 6],\n",
    "    [6, 7, 8, 9, 10, 11, 12],\n",
    "    [12, 13, 14, 15, 16, 17, 18],\n",
    "    [18, 19, 20, 21, 22, 23, 24],\n",
    "    [24, 25, 26, 27, 28, 29, 0]\n",
    "]\n",
    "\n",
    "for i, f in enumerate(fold_indices):\n",
    "    data = []\n",
    "    for image_idx in f:\n",
    "        ci = ct_imgs_paths[image_idx]\n",
    "        cl = ct_lbls_paths[image_idx]\n",
    "        num = int(ci.split('_')[-1].split('.nii.gz')[0])\n",
    "        id_ = f'ct_{num}'\n",
    "        img = sitk.GetArrayFromImage(sitk.ReadImage(ci))\n",
    "        lbl = sitk.GetArrayFromImage(sitk.ReadImage(cl))    \n",
    "        dic = {}\n",
    "        dic['id'] = id_\n",
    "        dic['img'] = img\n",
    "        dic['lbl'] = lbl\n",
    "        data.append(dic)\n",
    "    np.save(f'abd-ct-fold{i}', data)"
   ]
  },
  {
   "cell_type": "code",
   "execution_count": 7,
   "metadata": {},
   "outputs": [
    {
     "name": "stdout",
     "output_type": "stream",
     "text": [
      "id: ct_12, img shape: (97, 257, 257), label shape: (97, 257, 257)\n",
      "id: ct_13, img shape: (125, 257, 257), label shape: (125, 257, 257)\n",
      "id: ct_14, img shape: (86, 257, 257), label shape: (86, 257, 257)\n",
      "id: ct_15, img shape: (132, 257, 257), label shape: (132, 257, 257)\n",
      "id: ct_16, img shape: (89, 257, 257), label shape: (89, 257, 257)\n",
      "id: ct_17, img shape: (90, 257, 257), label shape: (90, 257, 257)\n",
      "id: ct_18, img shape: (101, 257, 257), label shape: (101, 257, 257)\n"
     ]
    }
   ],
   "source": [
    "fold2 = np.load('abd-ct-fold2.npy', allow_pickle=True)\n",
    "for i in range(7):\n",
    "    d = fold2[i]\n",
    "    print(f'id: {d[\"id\"]}, img shape: {d[\"img\"].shape}, label shape: {d[\"lbl\"].shape}')"
   ]
  },
  {
   "cell_type": "code",
   "execution_count": null,
   "metadata": {},
   "outputs": [],
   "source": []
  }
 ],
 "metadata": {
  "kernelspec": {
   "display_name": "smfi",
   "language": "python",
   "name": "python3"
  },
  "language_info": {
   "codemirror_mode": {
    "name": "ipython",
    "version": 3
   },
   "file_extension": ".py",
   "mimetype": "text/x-python",
   "name": "python",
   "nbconvert_exporter": "python",
   "pygments_lexer": "ipython3",
   "version": "3.8.10"
  },
  "orig_nbformat": 4
 },
 "nbformat": 4,
 "nbformat_minor": 2
}
